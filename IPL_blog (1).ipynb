{
 "cells": [
  {
   "cell_type": "markdown",
   "metadata": {},
   "source": [
    "### IPL Data Analysis Using Python "
   ]
  },
  {
   "cell_type": "markdown",
   "metadata": {},
   "source": [
    "#### Hello pythos, I am here to do basic python data exploration using IPL Dataset. Here, the data is from the Year 2008 to 2017. So, Lets get started"
   ]
  },
  {
   "cell_type": "markdown",
   "metadata": {},
   "source": [
    "#### Cricket is one of the popular game in India. After the Start of IPL, Indian cricket standards reached an ultimate level and many talented players got a chance to prove themselves in a platform like IPL where many international cricketers join co-ordinally to play together. IPL is the one of the leading cricket tournament in the world.So, i am here to describe the IPL analysis using Python Program. "
   ]
  },
  {
   "cell_type": "markdown",
   "metadata": {},
   "source": [
    "### Loading the Libraries\n",
    "\n",
    "Pandas is used for Data Processing and is also the most popular library in python used for data analysis ."
   ]
  },
  {
   "cell_type": "code",
   "execution_count": 1,
   "metadata": {},
   "outputs": [],
   "source": [
    "import pandas as pd"
   ]
  },
  {
   "cell_type": "markdown",
   "metadata": {},
   "source": [
    "### First we have to check whether the file is present in specified directory or not"
   ]
  },
  {
   "cell_type": "code",
   "execution_count": 2,
   "metadata": {},
   "outputs": [
    {
     "data": {
      "text/plain": [
       "'C:\\\\Users\\\\nsidd\\\\OneDrive\\\\Documents'"
      ]
     },
     "execution_count": 2,
     "metadata": {},
     "output_type": "execute_result"
    }
   ],
   "source": [
    "%pwd    # To check whether the file located in the present directory or not"
   ]
  },
  {
   "cell_type": "markdown",
   "metadata": {},
   "source": [
    "### To change the directory we use %cd "
   ]
  },
  {
   "cell_type": "code",
   "execution_count": 3,
   "metadata": {},
   "outputs": [
    {
     "name": "stdout",
     "output_type": "stream",
     "text": [
      "C:\\Users\\nsidd\\OneDrive\\Desktop\\Python Datasets\\New folder\n"
     ]
    }
   ],
   "source": [
    "%cd C:\\Users\\nsidd\\OneDrive\\Desktop\\Python Datasets\\New folder     "
   ]
  },
  {
   "cell_type": "code",
   "execution_count": 4,
   "metadata": {},
   "outputs": [
    {
     "data": {
      "text/plain": [
       "'C:\\\\Users\\\\nsidd\\\\OneDrive\\\\Desktop\\\\Python Datasets\\\\New folder'"
      ]
     },
     "execution_count": 4,
     "metadata": {},
     "output_type": "execute_result"
    }
   ],
   "source": [
    "%pwd"
   ]
  },
  {
   "cell_type": "markdown",
   "metadata": {},
   "source": [
    "### Reading the Input dataset and name it as your wish. I assumed it has df  "
   ]
  },
  {
   "cell_type": "code",
   "execution_count": 5,
   "metadata": {},
   "outputs": [],
   "source": [
    "df=pd.read_csv('Match.csv',sep=\",\")"
   ]
  },
  {
   "cell_type": "code",
   "execution_count": 6,
   "metadata": {},
   "outputs": [
    {
     "data": {
      "text/html": [
       "<div>\n",
       "<style scoped>\n",
       "    .dataframe tbody tr th:only-of-type {\n",
       "        vertical-align: middle;\n",
       "    }\n",
       "\n",
       "    .dataframe tbody tr th {\n",
       "        vertical-align: top;\n",
       "    }\n",
       "\n",
       "    .dataframe thead th {\n",
       "        text-align: right;\n",
       "    }\n",
       "</style>\n",
       "<table border=\"1\" class=\"dataframe\">\n",
       "  <thead>\n",
       "    <tr style=\"text-align: right;\">\n",
       "      <th></th>\n",
       "      <th>Match_SK</th>\n",
       "      <th>match_id</th>\n",
       "      <th>Team1</th>\n",
       "      <th>Team2</th>\n",
       "      <th>match_date</th>\n",
       "      <th>Season_Year</th>\n",
       "      <th>Venue_Name</th>\n",
       "      <th>City_Name</th>\n",
       "      <th>Country_Name</th>\n",
       "      <th>Toss_Winner</th>\n",
       "      <th>match_winner</th>\n",
       "      <th>Toss_Name</th>\n",
       "      <th>Win_Type</th>\n",
       "      <th>Outcome_Type</th>\n",
       "      <th>ManOfMach</th>\n",
       "      <th>Win_Margin</th>\n",
       "      <th>Country_id</th>\n",
       "    </tr>\n",
       "  </thead>\n",
       "  <tbody>\n",
       "    <tr>\n",
       "      <th>0</th>\n",
       "      <td>0</td>\n",
       "      <td>335987</td>\n",
       "      <td>Royal Challengers Bangalore</td>\n",
       "      <td>Kolkata Knight Riders</td>\n",
       "      <td>4/18/2008</td>\n",
       "      <td>2008</td>\n",
       "      <td>M Chinnaswamy Stadium</td>\n",
       "      <td>Bangalore</td>\n",
       "      <td>India</td>\n",
       "      <td>Royal Challengers Bangalore</td>\n",
       "      <td>Kolkata Knight Riders</td>\n",
       "      <td>field</td>\n",
       "      <td>runs</td>\n",
       "      <td>Result</td>\n",
       "      <td>BB McCullum</td>\n",
       "      <td>140.0</td>\n",
       "      <td>1</td>\n",
       "    </tr>\n",
       "    <tr>\n",
       "      <th>1</th>\n",
       "      <td>1</td>\n",
       "      <td>335988</td>\n",
       "      <td>Kings XI Punjab</td>\n",
       "      <td>Chennai Super Kings</td>\n",
       "      <td>4/19/2008</td>\n",
       "      <td>2008</td>\n",
       "      <td>Punjab Cricket Association Stadium, Mohali</td>\n",
       "      <td>Chandigarh</td>\n",
       "      <td>India</td>\n",
       "      <td>Chennai Super Kings</td>\n",
       "      <td>Chennai Super Kings</td>\n",
       "      <td>bat</td>\n",
       "      <td>runs</td>\n",
       "      <td>Result</td>\n",
       "      <td>MEK Hussey</td>\n",
       "      <td>33.0</td>\n",
       "      <td>1</td>\n",
       "    </tr>\n",
       "    <tr>\n",
       "      <th>2</th>\n",
       "      <td>2</td>\n",
       "      <td>335989</td>\n",
       "      <td>Delhi Daredevils</td>\n",
       "      <td>Rajasthan Royals</td>\n",
       "      <td>4/19/2008</td>\n",
       "      <td>2008</td>\n",
       "      <td>Feroz Shah Kotla</td>\n",
       "      <td>Delhi</td>\n",
       "      <td>India</td>\n",
       "      <td>Rajasthan Royals</td>\n",
       "      <td>Delhi Daredevils</td>\n",
       "      <td>bat</td>\n",
       "      <td>wickets</td>\n",
       "      <td>Result</td>\n",
       "      <td>MF Maharoof</td>\n",
       "      <td>9.0</td>\n",
       "      <td>1</td>\n",
       "    </tr>\n",
       "    <tr>\n",
       "      <th>3</th>\n",
       "      <td>3</td>\n",
       "      <td>335990</td>\n",
       "      <td>Mumbai Indians</td>\n",
       "      <td>Royal Challengers Bangalore</td>\n",
       "      <td>4/20/2008</td>\n",
       "      <td>2008</td>\n",
       "      <td>Wankhede Stadium</td>\n",
       "      <td>Mumbai</td>\n",
       "      <td>India</td>\n",
       "      <td>Mumbai Indians</td>\n",
       "      <td>Royal Challengers Bangalore</td>\n",
       "      <td>bat</td>\n",
       "      <td>wickets</td>\n",
       "      <td>Result</td>\n",
       "      <td>MV Boucher</td>\n",
       "      <td>5.0</td>\n",
       "      <td>1</td>\n",
       "    </tr>\n",
       "    <tr>\n",
       "      <th>4</th>\n",
       "      <td>4</td>\n",
       "      <td>335991</td>\n",
       "      <td>Kolkata Knight Riders</td>\n",
       "      <td>Deccan Chargers</td>\n",
       "      <td>4/20/2008</td>\n",
       "      <td>2008</td>\n",
       "      <td>Eden Gardens</td>\n",
       "      <td>Kolkata</td>\n",
       "      <td>India</td>\n",
       "      <td>Deccan Chargers</td>\n",
       "      <td>Kolkata Knight Riders</td>\n",
       "      <td>bat</td>\n",
       "      <td>wickets</td>\n",
       "      <td>Result</td>\n",
       "      <td>DJ Hussey</td>\n",
       "      <td>5.0</td>\n",
       "      <td>1</td>\n",
       "    </tr>\n",
       "  </tbody>\n",
       "</table>\n",
       "</div>"
      ],
      "text/plain": [
       "   Match_SK  match_id                        Team1  \\\n",
       "0         0    335987  Royal Challengers Bangalore   \n",
       "1         1    335988              Kings XI Punjab   \n",
       "2         2    335989             Delhi Daredevils   \n",
       "3         3    335990               Mumbai Indians   \n",
       "4         4    335991        Kolkata Knight Riders   \n",
       "\n",
       "                         Team2 match_date  Season_Year  \\\n",
       "0        Kolkata Knight Riders  4/18/2008         2008   \n",
       "1          Chennai Super Kings  4/19/2008         2008   \n",
       "2             Rajasthan Royals  4/19/2008         2008   \n",
       "3  Royal Challengers Bangalore  4/20/2008         2008   \n",
       "4              Deccan Chargers  4/20/2008         2008   \n",
       "\n",
       "                                   Venue_Name   City_Name Country_Name  \\\n",
       "0                       M Chinnaswamy Stadium   Bangalore        India   \n",
       "1  Punjab Cricket Association Stadium, Mohali  Chandigarh        India   \n",
       "2                            Feroz Shah Kotla       Delhi        India   \n",
       "3                            Wankhede Stadium      Mumbai        India   \n",
       "4                                Eden Gardens     Kolkata        India   \n",
       "\n",
       "                   Toss_Winner                 match_winner Toss_Name  \\\n",
       "0  Royal Challengers Bangalore        Kolkata Knight Riders     field   \n",
       "1          Chennai Super Kings          Chennai Super Kings       bat   \n",
       "2             Rajasthan Royals             Delhi Daredevils       bat   \n",
       "3               Mumbai Indians  Royal Challengers Bangalore       bat   \n",
       "4              Deccan Chargers        Kolkata Knight Riders       bat   \n",
       "\n",
       "  Win_Type Outcome_Type    ManOfMach  Win_Margin  Country_id  \n",
       "0     runs       Result  BB McCullum       140.0           1  \n",
       "1     runs       Result   MEK Hussey        33.0           1  \n",
       "2  wickets       Result  MF Maharoof         9.0           1  \n",
       "3  wickets       Result   MV Boucher         5.0           1  \n",
       "4  wickets       Result    DJ Hussey         5.0           1  "
      ]
     },
     "execution_count": 6,
     "metadata": {},
     "output_type": "execute_result"
    }
   ],
   "source": [
    "df.head()   # to print the first 5 rows and also to check whether we have taken the correct dataset"
   ]
  },
  {
   "cell_type": "markdown",
   "metadata": {},
   "source": [
    "### Getting Basic Details of Data\n",
    "\n",
    "Shape gives the number of rows and columns in the data. Here, 637 rows and 17 columns are present."
   ]
  },
  {
   "cell_type": "code",
   "execution_count": 7,
   "metadata": {},
   "outputs": [
    {
     "data": {
      "text/plain": [
       "(637, 17)"
      ]
     },
     "execution_count": 7,
     "metadata": {},
     "output_type": "execute_result"
    }
   ],
   "source": [
    "df.shape  # Shape represents the number of rows and columns present in the data"
   ]
  },
  {
   "cell_type": "markdown",
   "metadata": {},
   "source": [
    "### Different types of data present in the dataset?"
   ]
  },
  {
   "cell_type": "code",
   "execution_count": 8,
   "metadata": {},
   "outputs": [
    {
     "name": "stdout",
     "output_type": "stream",
     "text": [
      "<class 'pandas.core.frame.DataFrame'>\n",
      "RangeIndex: 637 entries, 0 to 636\n",
      "Data columns (total 17 columns):\n",
      "Match_SK        637 non-null int64\n",
      "match_id        637 non-null int64\n",
      "Team1           637 non-null object\n",
      "Team2           637 non-null object\n",
      "match_date      637 non-null object\n",
      "Season_Year     637 non-null int64\n",
      "Venue_Name      636 non-null object\n",
      "City_Name       637 non-null object\n",
      "Country_Name    637 non-null object\n",
      "Toss_Winner     636 non-null object\n",
      "match_winner    634 non-null object\n",
      "Toss_Name       636 non-null object\n",
      "Win_Type        635 non-null object\n",
      "Outcome_Type    637 non-null object\n",
      "ManOfMach       633 non-null object\n",
      "Win_Margin      628 non-null float64\n",
      "Country_id      637 non-null int64\n",
      "dtypes: float64(1), int64(4), object(12)\n",
      "memory usage: 84.7+ KB\n"
     ]
    }
   ],
   "source": [
    "df.info()"
   ]
  },
  {
   "cell_type": "markdown",
   "metadata": {},
   "source": [
    "##### These are the different types of data present in the dataset like Integer,Float,Object/String"
   ]
  },
  {
   "cell_type": "markdown",
   "metadata": {},
   "source": [
    "### Lets get into more details of the data"
   ]
  },
  {
   "cell_type": "code",
   "execution_count": 9,
   "metadata": {},
   "outputs": [
    {
     "data": {
      "text/html": [
       "<div>\n",
       "<style scoped>\n",
       "    .dataframe tbody tr th:only-of-type {\n",
       "        vertical-align: middle;\n",
       "    }\n",
       "\n",
       "    .dataframe tbody tr th {\n",
       "        vertical-align: top;\n",
       "    }\n",
       "\n",
       "    .dataframe thead th {\n",
       "        text-align: right;\n",
       "    }\n",
       "</style>\n",
       "<table border=\"1\" class=\"dataframe\">\n",
       "  <thead>\n",
       "    <tr style=\"text-align: right;\">\n",
       "      <th></th>\n",
       "      <th>Match_SK</th>\n",
       "      <th>match_id</th>\n",
       "      <th>Season_Year</th>\n",
       "      <th>Win_Margin</th>\n",
       "      <th>Country_id</th>\n",
       "    </tr>\n",
       "  </thead>\n",
       "  <tbody>\n",
       "    <tr>\n",
       "      <th>count</th>\n",
       "      <td>637.000000</td>\n",
       "      <td>6.370000e+02</td>\n",
       "      <td>637.000000</td>\n",
       "      <td>628.000000</td>\n",
       "      <td>637.000000</td>\n",
       "    </tr>\n",
       "    <tr>\n",
       "      <th>mean</th>\n",
       "      <td>318.000000</td>\n",
       "      <td>6.378825e+05</td>\n",
       "      <td>2012.497645</td>\n",
       "      <td>17.272293</td>\n",
       "      <td>1.152276</td>\n",
       "    </tr>\n",
       "    <tr>\n",
       "      <th>std</th>\n",
       "      <td>184.030342</td>\n",
       "      <td>2.356312e+05</td>\n",
       "      <td>2.776600</td>\n",
       "      <td>22.212632</td>\n",
       "      <td>0.438388</td>\n",
       "    </tr>\n",
       "    <tr>\n",
       "      <th>min</th>\n",
       "      <td>0.000000</td>\n",
       "      <td>3.359870e+05</td>\n",
       "      <td>2008.000000</td>\n",
       "      <td>0.000000</td>\n",
       "      <td>1.000000</td>\n",
       "    </tr>\n",
       "    <tr>\n",
       "      <th>25%</th>\n",
       "      <td>159.000000</td>\n",
       "      <td>4.191550e+05</td>\n",
       "      <td>2010.000000</td>\n",
       "      <td>6.000000</td>\n",
       "      <td>1.000000</td>\n",
       "    </tr>\n",
       "    <tr>\n",
       "      <th>50%</th>\n",
       "      <td>318.000000</td>\n",
       "      <td>5.483830e+05</td>\n",
       "      <td>2012.000000</td>\n",
       "      <td>8.000000</td>\n",
       "      <td>1.000000</td>\n",
       "    </tr>\n",
       "    <tr>\n",
       "      <th>75%</th>\n",
       "      <td>477.000000</td>\n",
       "      <td>8.297480e+05</td>\n",
       "      <td>2015.000000</td>\n",
       "      <td>20.000000</td>\n",
       "      <td>1.000000</td>\n",
       "    </tr>\n",
       "    <tr>\n",
       "      <th>max</th>\n",
       "      <td>636.000000</td>\n",
       "      <td>1.082650e+06</td>\n",
       "      <td>2017.000000</td>\n",
       "      <td>146.000000</td>\n",
       "      <td>3.000000</td>\n",
       "    </tr>\n",
       "  </tbody>\n",
       "</table>\n",
       "</div>"
      ],
      "text/plain": [
       "         Match_SK      match_id  Season_Year  Win_Margin  Country_id\n",
       "count  637.000000  6.370000e+02   637.000000  628.000000  637.000000\n",
       "mean   318.000000  6.378825e+05  2012.497645   17.272293    1.152276\n",
       "std    184.030342  2.356312e+05     2.776600   22.212632    0.438388\n",
       "min      0.000000  3.359870e+05  2008.000000    0.000000    1.000000\n",
       "25%    159.000000  4.191550e+05  2010.000000    6.000000    1.000000\n",
       "50%    318.000000  5.483830e+05  2012.000000    8.000000    1.000000\n",
       "75%    477.000000  8.297480e+05  2015.000000   20.000000    1.000000\n",
       "max    636.000000  1.082650e+06  2017.000000  146.000000    3.000000"
      ]
     },
     "execution_count": 9,
     "metadata": {},
     "output_type": "execute_result"
    }
   ],
   "source": [
    "df.describe()"
   ]
  },
  {
   "cell_type": "markdown",
   "metadata": {},
   "source": [
    "#### This describes the basic statistics of the data like mean, standard deviation, minimum,maximum,1st quartile,2nd quartile,3rd quartile etc"
   ]
  },
  {
   "cell_type": "markdown",
   "metadata": {},
   "source": [
    "#### Number of matches played in each season?"
   ]
  },
  {
   "cell_type": "code",
   "execution_count": 11,
   "metadata": {},
   "outputs": [
    {
     "data": {
      "text/plain": [
       "2013    76\n",
       "2012    74\n",
       "2011    73\n",
       "2017    60\n",
       "2016    60\n",
       "2014    60\n",
       "2010    60\n",
       "2015    59\n",
       "2008    58\n",
       "2009    57\n",
       "Name: Season_Year, dtype: int64"
      ]
     },
     "execution_count": 11,
     "metadata": {},
     "output_type": "execute_result"
    }
   ],
   "source": [
    "df['Season_Year'].value_counts()"
   ]
  },
  {
   "cell_type": "markdown",
   "metadata": {},
   "source": [
    "#### From the above syntax we can get the number of counts/matches played in each season using value_counts. The maximum matches played is in the year 2013 because there are 9 teams participated in this year.The least number of matches palyed is 57 in the year 2009. "
   ]
  },
  {
   "cell_type": "markdown",
   "metadata": {},
   "source": [
    "### Number of matches played in each venue?"
   ]
  },
  {
   "cell_type": "code",
   "execution_count": 12,
   "metadata": {},
   "outputs": [
    {
     "data": {
      "text/plain": [
       "M Chinnaswamy Stadium                                   66\n",
       "Eden Gardens                                            61\n",
       "Feroz Shah Kotla                                        60\n",
       "Wankhede Stadium                                        57\n",
       "MA Chidambaram Stadium, Chepauk                         48\n",
       "Rajiv Gandhi International Stadium, Uppal               41\n",
       "Punjab Cricket Association Stadium, Mohali              35\n",
       "Sawai Mansingh Stadium                                  33\n",
       "Dr DY Patil Sports Academy                              17\n",
       "Subrata Roy Sahara Stadium                              17\n",
       "Maharashtra Cricket Association Stadium                 15\n",
       "Kingsmead                                               15\n",
       "SuperSport Park                                         12\n",
       "Sardar Patel Stadium, Motera                            12\n",
       "Dr. Y.S. Rajasekhara Reddy ACA-VDCA Cricket Stadium     11\n",
       "Brabourne Stadium                                       11\n",
       "Saurashtra Cricket Association Stadium                  10\n",
       "Himachal Pradesh Cricket Association Stadium             9\n",
       "Rajiv Gandhi International Stadium Uppal                 8\n",
       "New Wanderers Stadium                                    8\n",
       "Newlands                                                 7\n",
       "Punjab Cricket Association IS Bindra Stadium, Mohali     7\n",
       "St George's Park                                         7\n",
       "Barabati Stadium                                         7\n",
       "JSCA International Stadium Complex                       7\n",
       "Sheikh Zayed Stadium                                     7\n",
       "Dubai International Cricket Stadium                      7\n",
       "Shaheed Veer Narayan Singh International Stadium         6\n",
       "Sharjah Cricket Stadium                                  6\n",
       "Nehru Stadium                                            5\n",
       "Holkar Cricket Stadium                                   5\n",
       "Green Park                                               4\n",
       "Punjab Cricket Association IS Bindra Stadium Mohali      4\n",
       "Vidarbha Cricket Association Stadium, Jamtha             3\n",
       "Buffalo Park                                             3\n",
       "De Beers Diamond Oval                                    3\n",
       "OUTsurance Oval                                          2\n",
       "Name: Venue_Name, dtype: int64"
      ]
     },
     "execution_count": 12,
     "metadata": {},
     "output_type": "execute_result"
    }
   ],
   "source": [
    "df['Venue_Name'].value_counts()"
   ]
  },
  {
   "cell_type": "markdown",
   "metadata": {},
   "source": [
    "#### From the above syntax we can find the Number of matches played in each Venue.The maximum matches played in a particular venue is M chinnaswamy Stadium In Bengaluru."
   ]
  },
  {
   "cell_type": "markdown",
   "metadata": {},
   "source": [
    "#### Match Winners based on Season Year?"
   ]
  },
  {
   "cell_type": "code",
   "execution_count": 14,
   "metadata": {},
   "outputs": [
    {
     "data": {
      "text/plain": [
       "Season_Year  match_winner               \n",
       "2008         Rajasthan Royals               13\n",
       "             Kings XI Punjab                10\n",
       "             Chennai Super Kings             9\n",
       "             Delhi Daredevils                7\n",
       "             Mumbai Indians                  7\n",
       "             Kolkata Knight Riders           6\n",
       "             Royal Challengers Bangalore     4\n",
       "             Deccan Chargers                 2\n",
       "2009         Delhi Daredevils               10\n",
       "             Deccan Chargers                 9\n",
       "             Royal Challengers Bangalore     9\n",
       "             Chennai Super Kings             8\n",
       "             Kings XI Punjab                 7\n",
       "             Rajasthan Royals                6\n",
       "             Mumbai Indians                  5\n",
       "             Kolkata Knight Riders           3\n",
       "2010         Mumbai Indians                 11\n",
       "             Chennai Super Kings             9\n",
       "             Deccan Chargers                 8\n",
       "             Royal Challengers Bangalore     8\n",
       "             Delhi Daredevils                7\n",
       "             Kolkata Knight Riders           7\n",
       "             Rajasthan Royals                6\n",
       "             Kings XI Punjab                 4\n",
       "2011         Chennai Super Kings            11\n",
       "             Mumbai Indians                 10\n",
       "             Royal Challengers Bangalore    10\n",
       "             Kolkata Knight Riders           8\n",
       "             Kings XI Punjab                 7\n",
       "             Deccan Chargers                 6\n",
       "                                            ..\n",
       "2014         Rajasthan Royals                7\n",
       "             Sunrisers Hyderabad             6\n",
       "             Royal Challengers Bangalore     5\n",
       "             Delhi Daredevils                2\n",
       "2015         Chennai Super Kings            10\n",
       "             Mumbai Indians                 10\n",
       "             Royal Challengers Bangalore     8\n",
       "             Kolkata Knight Riders           7\n",
       "             Rajasthan Royals                7\n",
       "             Sunrisers Hyderabad             7\n",
       "             Delhi Daredevils                5\n",
       "             Kings XI Punjab                 3\n",
       "2016         Sunrisers Hyderabad            11\n",
       "             Gujarat Lions                   9\n",
       "             Royal Challengers Bangalore     9\n",
       "             Kolkata Knight Riders           8\n",
       "             Delhi Daredevils                7\n",
       "             Mumbai Indians                  7\n",
       "             Rising Pune Supergiants         5\n",
       "             Kings XI Punjab                 4\n",
       "2017         Mumbai Indians                 11\n",
       "             Rising Pune Supergiants        10\n",
       "             Kolkata Knight Riders           9\n",
       "             Sunrisers Hyderabad             8\n",
       "             Kings XI Punjab                 7\n",
       "             Delhi Daredevils                6\n",
       "             Gujarat Lions                   4\n",
       "             Royal Challengers Bangalore     3\n",
       "             abandoned                       1\n",
       "             tied                            1\n",
       "Name: match_winner, Length: 86, dtype: int64"
      ]
     },
     "execution_count": 14,
     "metadata": {},
     "output_type": "execute_result"
    }
   ],
   "source": [
    "df.groupby('Season_Year')['match_winner'].value_counts()"
   ]
  },
  {
   "cell_type": "code",
   "execution_count": 15,
   "metadata": {},
   "outputs": [
    {
     "data": {
      "text/plain": [
       "13"
      ]
     },
     "execution_count": 15,
     "metadata": {},
     "output_type": "execute_result"
    }
   ],
   "source": [
    "df.groupby('Season_Year')['match_winner'].value_counts().max()"
   ]
  },
  {
   "cell_type": "markdown",
   "metadata": {},
   "source": [
    "#### Using groupby function we can split the data into groups based on some criteria.Here, we can see that the no.of matches won by the team based on the season.From, above syntax we can see that the maximum matches won by the Team amongst all the seasons is rajasthan royals and the record is still pending.(data is from 2008 to 2017, As far as now MI is leading match winners amongst all the seasons)"
   ]
  },
  {
   "cell_type": "markdown",
   "metadata": {},
   "source": [
    "### Exploring with Dates,Months,Years"
   ]
  },
  {
   "cell_type": "markdown",
   "metadata": {},
   "source": [
    "#### From Match date we want to extract the dates,month,years so we use pandas datetime to do this "
   ]
  },
  {
   "cell_type": "code",
   "execution_count": 16,
   "metadata": {},
   "outputs": [],
   "source": [
    "df['match_date']=pd.to_datetime(df['match_date'],errors='coerce')"
   ]
  },
  {
   "cell_type": "markdown",
   "metadata": {},
   "source": [
    "#### Here, to extract month from match_date we use the below syntax to extract the month"
   ]
  },
  {
   "cell_type": "code",
   "execution_count": 17,
   "metadata": {},
   "outputs": [],
   "source": [
    "df['month']=df['match_date'].dt.month"
   ]
  },
  {
   "cell_type": "markdown",
   "metadata": {},
   "source": [
    "#### Checking whether we got the correct month or not"
   ]
  },
  {
   "cell_type": "code",
   "execution_count": 18,
   "metadata": {},
   "outputs": [
    {
     "data": {
      "text/plain": [
       "0    4\n",
       "1    4\n",
       "2    4\n",
       "3    4\n",
       "4    4\n",
       "Name: month, dtype: int64"
      ]
     },
     "execution_count": 18,
     "metadata": {},
     "output_type": "execute_result"
    }
   ],
   "source": [
    "df['month'].head()"
   ]
  },
  {
   "cell_type": "markdown",
   "metadata": {},
   "source": [
    "#### we use below syntax for extracting the Year"
   ]
  },
  {
   "cell_type": "code",
   "execution_count": 19,
   "metadata": {},
   "outputs": [],
   "source": [
    "df['year']=df['match_date'].dt.year"
   ]
  },
  {
   "cell_type": "code",
   "execution_count": 20,
   "metadata": {},
   "outputs": [
    {
     "data": {
      "text/plain": [
       "0      2008\n",
       "1      2008\n",
       "2      2008\n",
       "3      2008\n",
       "4      2008\n",
       "5      2008\n",
       "6      2008\n",
       "7      2008\n",
       "8      2008\n",
       "9      2008\n",
       "10     2008\n",
       "11     2008\n",
       "12     2008\n",
       "13     2008\n",
       "14     2008\n",
       "15     2008\n",
       "16     2008\n",
       "17     2008\n",
       "18     2008\n",
       "19     2008\n",
       "20     2008\n",
       "21     2008\n",
       "22     2008\n",
       "23     2008\n",
       "24     2008\n",
       "25     2008\n",
       "26     2008\n",
       "27     2008\n",
       "28     2008\n",
       "29     2008\n",
       "       ... \n",
       "607    2017\n",
       "608    2017\n",
       "609    2017\n",
       "610    2017\n",
       "611    2017\n",
       "612    2017\n",
       "613    2017\n",
       "614    2017\n",
       "615    2017\n",
       "616    2017\n",
       "617    2017\n",
       "618    2017\n",
       "619    2017\n",
       "620    2017\n",
       "621    2017\n",
       "622    2017\n",
       "623    2017\n",
       "624    2017\n",
       "625    2017\n",
       "626    2017\n",
       "627    2017\n",
       "628    2017\n",
       "629    2017\n",
       "630    2017\n",
       "631    2017\n",
       "632    2017\n",
       "633    2017\n",
       "634    2017\n",
       "635    2017\n",
       "636    2017\n",
       "Name: year, Length: 637, dtype: int64"
      ]
     },
     "execution_count": 20,
     "metadata": {},
     "output_type": "execute_result"
    }
   ],
   "source": [
    "df['year']"
   ]
  },
  {
   "cell_type": "markdown",
   "metadata": {},
   "source": [
    "#### The below code resembles the no.of incidents where the team chosen to bat or field"
   ]
  },
  {
   "cell_type": "code",
   "execution_count": 21,
   "metadata": {},
   "outputs": [
    {
     "data": {
      "text/plain": [
       "field    315\n",
       "bat      262\n",
       "Field     48\n",
       "Bat       11\n",
       "Name: Toss_Name, dtype: int64"
      ]
     },
     "execution_count": 21,
     "metadata": {},
     "output_type": "execute_result"
    }
   ],
   "source": [
    "df['Toss_Name'].value_counts()"
   ]
  },
  {
   "cell_type": "markdown",
   "metadata": {},
   "source": [
    "#### From above result, we can say that teams prefer to field first rather than batting first.As it is T20 many teams prefer to chase the targets."
   ]
  },
  {
   "cell_type": "markdown",
   "metadata": {},
   "source": [
    "#### How Many Man of the Matches the players are awarded amongst all the seasons?"
   ]
  },
  {
   "cell_type": "code",
   "execution_count": 22,
   "metadata": {},
   "outputs": [
    {
     "data": {
      "text/plain": [
       "CH Gayle            18\n",
       "YK Pathan           16\n",
       "DA Warner           15\n",
       "AB de Villiers      15\n",
       "SK Raina            14\n",
       "RG Sharma           14\n",
       "MS Dhoni            13\n",
       "G Gambhir           13\n",
       "AM Rahane           12\n",
       "MEK Hussey          12\n",
       "V Sehwag            11\n",
       "V Kohli             11\n",
       "DR Smith            11\n",
       "JH Kallis           10\n",
       "SR Watson           10\n",
       "KA Pollard           9\n",
       "A Mishra             9\n",
       "SE Marsh             9\n",
       "SR Tendulkar         8\n",
       "RV Uthappa           7\n",
       "AC Gilchrist         7\n",
       "RA Jadeja            7\n",
       "AT Rayudu            7\n",
       "M Vijay              6\n",
       "Harbhajan Singh      6\n",
       "A Nehra              6\n",
       "UT Yadav             6\n",
       "BJ Hodge             6\n",
       "AD Russell           6\n",
       "KC Sangakkara        5\n",
       "                    ..\n",
       "Narine               1\n",
       "MS Gony              1\n",
       "AP Tare              1\n",
       "Wasington Sundar     1\n",
       "BA Bhatt             1\n",
       "Mohammed Shami       1\n",
       "J Botha              1\n",
       "S Nadeem             1\n",
       "Z Khan               1\n",
       "WPUJC Vaas           1\n",
       "EJG Morgan           1\n",
       "KMDN Kulasekara      1\n",
       "RS Bopara            1\n",
       "HH Gibbs             1\n",
       "KK Cooper            1\n",
       "DP Nannes            1\n",
       "TA Boult             1\n",
       "AD Mascarenhas       1\n",
       "GD McGrath           1\n",
       "DL Vettori           1\n",
       "R Ashwin             1\n",
       "A Singh              1\n",
       "YS Chahal            1\n",
       "RE Levi              1\n",
       "AD Mathews           1\n",
       "SM Katich            1\n",
       "RP Singh             1\n",
       "MN Samuels           1\n",
       "MA Agarwal           1\n",
       "S Anirudha           1\n",
       "Name: ManOfMach, Length: 202, dtype: int64"
      ]
     },
     "execution_count": 22,
     "metadata": {},
     "output_type": "execute_result"
    }
   ],
   "source": [
    "df['ManOfMach'].value_counts()"
   ]
  },
  {
   "cell_type": "markdown",
   "metadata": {},
   "source": [
    "###### Chris Gayle Tops the List with 18 MOM amongst all the players from the above data.(as this is the old data but also Chris Gayle tops the list with 21 Moms(2019)). No better Example to show that how Destructive Batsman \"Christopher Henry Gayle\" is. "
   ]
  },
  {
   "cell_type": "markdown",
   "metadata": {},
   "source": [
    "#### Most Number of matches held in a city?"
   ]
  },
  {
   "cell_type": "code",
   "execution_count": 23,
   "metadata": {},
   "outputs": [
    {
     "data": {
      "text/plain": [
       "Mumbai                85\n",
       "Kolkata               61\n",
       "Delhi                 60\n",
       "Bangalore             58\n",
       "Chennai               48\n",
       "Chandigarh            42\n",
       "Hyderabad             41\n",
       "Jaipur                33\n",
       "Pune                  32\n",
       "Abu Dhabi             20\n",
       "Durban                15\n",
       "Centurion             12\n",
       "Ahmedabad             12\n",
       "Visakhapatnam         11\n",
       "Rajkot                10\n",
       "Bengaluru              9\n",
       "Dharamsala             9\n",
       "Johannesburg           8\n",
       "Hyderabad (Deccan)     8\n",
       "Ranchi                 7\n",
       "Cape Town              7\n",
       "Cuttack                7\n",
       "Port Elizabeth         7\n",
       "Raipur                 6\n",
       "Kochi                  5\n",
       "Indore                 5\n",
       "Kanpur                 4\n",
       "Mohali                 4\n",
       "East London            3\n",
       "Kimberley              3\n",
       "Nagpur                 3\n",
       "Bloemfontein           2\n",
       "Name: City_Name, dtype: int64"
      ]
     },
     "execution_count": 23,
     "metadata": {},
     "output_type": "execute_result"
    }
   ],
   "source": [
    "df['City_Name'].value_counts()"
   ]
  },
  {
   "cell_type": "markdown",
   "metadata": {},
   "source": [
    "#### Lets See Some Visualizations using Python"
   ]
  },
  {
   "cell_type": "markdown",
   "metadata": {},
   "source": [
    "###### At First we have to import Matplotlib library. It is most widely used library for data visualization.We can create various plots like scattered plot,bar plot, box plot, etc using this library."
   ]
  },
  {
   "cell_type": "code",
   "execution_count": 24,
   "metadata": {},
   "outputs": [],
   "source": [
    "import matplotlib.pyplot as plt"
   ]
  },
  {
   "cell_type": "markdown",
   "metadata": {},
   "source": [
    "### How many matches are played in each season of IPL(2008 to 2017)?"
   ]
  },
  {
   "cell_type": "code",
   "execution_count": 46,
   "metadata": {},
   "outputs": [
    {
     "data": {
      "text/plain": [
       "(array([58.,  0., 57.,  0., 60.,  0., 73.,  0., 74.,  0.,  0., 76.,  0.,\n",
       "        60.,  0., 59.,  0., 60.,  0., 60.]),\n",
       " array([2008.  , 2008.45, 2008.9 , 2009.35, 2009.8 , 2010.25, 2010.7 ,\n",
       "        2011.15, 2011.6 , 2012.05, 2012.5 , 2012.95, 2013.4 , 2013.85,\n",
       "        2014.3 , 2014.75, 2015.2 , 2015.65, 2016.1 , 2016.55, 2017.  ]),\n",
       " <a list of 20 Patch objects>)"
      ]
     },
     "execution_count": 46,
     "metadata": {},
     "output_type": "execute_result"
    },
    {
     "data": {
      "image/png": "[encoded data removed]",
      "text/plain": [
       "<Figure size 432x288 with 1 Axes>"
      ]
     },
     "metadata": {
      "needs_background": "light"
     },
     "output_type": "display_data"
    }
   ],
   "source": [
    "plt.hist(df['Season_Year'],bins=20)      # Using Histogram to plot these data"
   ]
  },
  {
   "cell_type": "code",
   "execution_count": 26,
   "metadata": {},
   "outputs": [],
   "source": [
    "import seaborn as sns"
   ]
  },
  {
   "cell_type": "markdown",
   "metadata": {},
   "source": [
    "#### Lets See Some More Visualizations"
   ]
  },
  {
   "cell_type": "markdown",
   "metadata": {},
   "source": [
    "### Most No.of Matches Played in Each Season?"
   ]
  },
  {
   "cell_type": "code",
   "execution_count": 73,
   "metadata": {},
   "outputs": [
    {
     "data": {
      "text/plain": [
       "<matplotlib.axes._subplots.AxesSubplot at 0x21b14118978>"
      ]
     },
     "execution_count": 73,
     "metadata": {},
     "output_type": "execute_result"
    },
    {
     "data": {
      "image/png": "[encoded data removed]",
      "text/plain": [
       "<Figure size 432x288 with 1 Axes>"
      ]
     },
     "metadata": {
      "needs_background": "light"
     },
     "output_type": "display_data"
    }
   ],
   "source": [
    "sns.countplot(x='Season_Year',data=df)"
   ]
  },
  {
   "cell_type": "markdown",
   "metadata": {},
   "source": [
    "##### We can see that from 2011 to 2013 no.of matches played shows increasing trend whereas 2013 tops the list with most no.of matches played around 76."
   ]
  },
  {
   "cell_type": "markdown",
   "metadata": {},
   "source": [
    "### Which team is Most successful among all the seasons?"
   ]
  },
  {
   "cell_type": "code",
   "execution_count": 47,
   "metadata": {},
   "outputs": [
    {
     "data": {
      "text/plain": [
       "<matplotlib.axes._subplots.AxesSubplot at 0x21b11dfecc0>"
      ]
     },
     "execution_count": 47,
     "metadata": {},
     "output_type": "execute_result"
    },
    {
     "data": {
      "image/png": "[encoded data removed]",
      "text/plain": [
       "<Figure size 432x288 with 1 Axes>"
      ]
     },
     "metadata": {
      "needs_background": "light"
     },
     "output_type": "display_data"
    }
   ],
   "source": [
    "sns.countplot(y='match_winner',data=df)"
   ]
  },
  {
   "cell_type": "markdown",
   "metadata": {},
   "source": [
    "##### By using countplot we can check the count of match_winner for finding successful team among all the seasons. Mumbai Indians is the most successful team from 2008 to 2017. (As per latest reports,  MI is the most successful team because it has 4 IPL titles and also having a huge fan base, \"Proud to be a MI Fan :) \"). CSK is the second most successful team after MI. "
   ]
  },
  {
   "cell_type": "markdown",
   "metadata": {},
   "source": [
    "#### \"Just a beginning plenty to come\",Stay Tuned for Some more Data Analysis using Python."
   ]
  }
 ],
 "metadata": {
  "kernelspec": {
   "display_name": "Python 3",
   "language": "python",
   "name": "python3"
  },
  "language_info": {
   "codemirror_mode": {
    "name": "ipython",
    "version": 3
   },
   "file_extension": ".py",
   "mimetype": "text/x-python",
   "name": "python",
   "nbconvert_exporter": "python",
   "pygments_lexer": "ipython3",
   "version": "3.7.3"
  }
 },
 "nbformat": 4,
 "nbformat_minor": 2
}
